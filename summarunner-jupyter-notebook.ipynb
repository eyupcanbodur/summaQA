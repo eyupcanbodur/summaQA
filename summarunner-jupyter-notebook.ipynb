{
 "cells": [
  {
   "cell_type": "code",
   "execution_count": 1,
   "metadata": {},
   "outputs": [
    {
     "name": "stdout",
     "output_type": "stream",
     "text": [
      "Requirement already satisfied: gensim in /home/eyupcan/anaconda3/lib/python3.7/site-packages (3.8.1)\n",
      "Requirement already satisfied: smart-open>=1.8.1 in /home/eyupcan/anaconda3/lib/python3.7/site-packages (from gensim) (1.9.0)\n",
      "Requirement already satisfied: scipy>=0.18.1 in /home/eyupcan/anaconda3/lib/python3.7/site-packages (from gensim) (1.3.1)\n",
      "Requirement already satisfied: six>=1.5.0 in /home/eyupcan/anaconda3/lib/python3.7/site-packages (from gensim) (1.12.0)\n",
      "Requirement already satisfied: numpy>=1.11.3 in /home/eyupcan/anaconda3/lib/python3.7/site-packages (from gensim) (1.17.2)\n",
      "Requirement already satisfied: boto3 in /home/eyupcan/anaconda3/lib/python3.7/site-packages (from smart-open>=1.8.1->gensim) (1.11.9)\n",
      "Requirement already satisfied: requests in /home/eyupcan/anaconda3/lib/python3.7/site-packages (from smart-open>=1.8.1->gensim) (2.22.0)\n",
      "Requirement already satisfied: boto>=2.32 in /home/eyupcan/anaconda3/lib/python3.7/site-packages (from smart-open>=1.8.1->gensim) (2.49.0)\n",
      "Requirement already satisfied: jmespath<1.0.0,>=0.7.1 in /home/eyupcan/anaconda3/lib/python3.7/site-packages (from boto3->smart-open>=1.8.1->gensim) (0.9.4)\n",
      "Requirement already satisfied: botocore<1.15.0,>=1.14.9 in /home/eyupcan/anaconda3/lib/python3.7/site-packages (from boto3->smart-open>=1.8.1->gensim) (1.14.9)\n",
      "Requirement already satisfied: s3transfer<0.4.0,>=0.3.0 in /home/eyupcan/anaconda3/lib/python3.7/site-packages (from boto3->smart-open>=1.8.1->gensim) (0.3.2)\n",
      "Requirement already satisfied: certifi>=2017.4.17 in /home/eyupcan/anaconda3/lib/python3.7/site-packages (from requests->smart-open>=1.8.1->gensim) (2019.9.11)\n",
      "Requirement already satisfied: idna<2.9,>=2.5 in /home/eyupcan/anaconda3/lib/python3.7/site-packages (from requests->smart-open>=1.8.1->gensim) (2.8)\n",
      "Requirement already satisfied: chardet<3.1.0,>=3.0.2 in /home/eyupcan/anaconda3/lib/python3.7/site-packages (from requests->smart-open>=1.8.1->gensim) (3.0.4)\n",
      "Requirement already satisfied: urllib3!=1.25.0,!=1.25.1,<1.26,>=1.21.1 in /home/eyupcan/anaconda3/lib/python3.7/site-packages (from requests->smart-open>=1.8.1->gensim) (1.24.2)\n",
      "Requirement already satisfied: python-dateutil<3.0.0,>=2.1 in /home/eyupcan/anaconda3/lib/python3.7/site-packages (from botocore<1.15.0,>=1.14.9->boto3->smart-open>=1.8.1->gensim) (2.8.0)\n",
      "Requirement already satisfied: docutils<0.16,>=0.10 in /home/eyupcan/anaconda3/lib/python3.7/site-packages (from botocore<1.15.0,>=1.14.9->boto3->smart-open>=1.8.1->gensim) (0.15.2)\n",
      "Requirement already satisfied: nltk in /home/eyupcan/anaconda3/lib/python3.7/site-packages (3.4.5)\n",
      "Requirement already satisfied: six in /home/eyupcan/anaconda3/lib/python3.7/site-packages (from nltk) (1.12.0)\n"
     ]
    }
   ],
   "source": [
    "!pip install gensim\n",
    "!pip install nltk"
   ]
  },
  {
   "cell_type": "code",
   "execution_count": 2,
   "metadata": {},
   "outputs": [],
   "source": [
    "import json\n",
    "import nltk\n",
    "from datetime import datetime\n",
    "from gensim.summarization import summarize\n",
    "\n",
    "\n",
    "SENTENCE_COUNT = 2\n",
    "\n",
    "# Reads a json file and return a dictionary object\n",
    "def read_json(file_path):\n",
    "    temp_json = {}\n",
    "    with open(file_path, 'r') as f:\n",
    "        temp_json = json.load(f)\n",
    "    return temp_json\n",
    "\n",
    "# Write dictionary object to a json formatted file\n",
    "def write_to_json(data, file_path):\n",
    "    with open(file_path, \"w\") as f:\n",
    "        json.dump(data, f)\n",
    "def isParagraphValid(paragraph):\n",
    "    # Check for sentence count. If sentence_count > SENTENCE_COUNT return true.\n",
    "    return len(nltk.sent_tokenize(paragraph)) > SENTENCE_COUNT\n",
    "\n",
    "def getDateTime():\n",
    "    return datetime.now().strftime(\"%d-%m-%Y_%H:%M:%S\")"
   ]
  },
  {
   "cell_type": "code",
   "execution_count": 3,
   "metadata": {},
   "outputs": [],
   "source": [
    "squadTrainingJSON = read_json('./datasets/train-v2.0.json')\n",
    "squadTrainingJSONData = squadTrainingJSON[\"data\"]"
   ]
  },
  {
   "cell_type": "code",
   "execution_count": 4,
   "metadata": {},
   "outputs": [],
   "source": [
    "# version, data\n",
    "# data da, [{title, paragraphs}...} var\n",
    "# paragraphsta [{qas, context}...] var\n",
    "aa = squadTrainingJSONData[0][\"paragraphs\"]"
   ]
  },
  {
   "cell_type": "code",
   "execution_count": 5,
   "metadata": {},
   "outputs": [
    {
     "name": "stdout",
     "output_type": "stream",
     "text": [
      "Successfull Summary Count: 9315\n",
      "Empty Summary Count: 9113\n",
      "Not Valid(Skipped) Summary Count: 0\n",
      "Total Context Count: 19035\n",
      "Error Count: 607\n",
      "CPU times: user 35.8 s, sys: 61.6 ms, total: 35.8 s\n",
      "Wall time: 36.4 s\n"
     ]
    }
   ],
   "source": [
    "%%time\n",
    "# tpDict : Title-Paragraph dictionary\n",
    "# qcDict : Questions - Context dictionary\n",
    "ind = 0\n",
    "total = 0\n",
    "summarized = 0\n",
    "empty_summarized = 0\n",
    "skipped = 0\n",
    "error = 0\n",
    "for tpDict in squadTrainingJSONData:\n",
    "    total += len(tpDict[\"paragraphs\"])\n",
    "    for qcDict in tpDict[\"paragraphs\"]:\n",
    "        context = qcDict[\"context\"]\n",
    "        try:\n",
    "            summary = summarize(context)\n",
    "            if summary == \"\" : \n",
    "                empty_summarized += 1\n",
    "#                 print(\"EMPTY\")\n",
    "            else: \n",
    "                summarized += 1\n",
    "                qcDict[\"context\"] = summary\n",
    "#                 print(\"SUMMARY\\n\" + summary)\n",
    "        except ValueError:\n",
    "            # Do nothing\n",
    "            error += 1\n",
    "#                 print(\"Text too short error\")\n",
    "print(\"Successfull Summary Count: \" + str(summarized))\n",
    "print(\"Empty Summary Count: \" + str(empty_summarized))\n",
    "print(\"Not Valid(Skipped) Summary Count: \"+ str(skipped))\n",
    "print(\"Total Context Count: \" + str(total))\n",
    "print(\"Error Count: \" + str(error))\n",
    "\n",
    "write_to_json(squadTrainingJSON, \"./\"+ getDateTime() +\".json\")"
   ]
  }
 ],
 "metadata": {
  "kernelspec": {
   "display_name": "Python 3",
   "language": "python",
   "name": "python3"
  },
  "language_info": {
   "codemirror_mode": {
    "name": "ipython",
    "version": 3
   },
   "file_extension": ".py",
   "mimetype": "text/x-python",
   "name": "python",
   "nbconvert_exporter": "python",
   "pygments_lexer": "ipython3",
   "version": "3.7.4"
  }
 },
 "nbformat": 4,
 "nbformat_minor": 2
}
