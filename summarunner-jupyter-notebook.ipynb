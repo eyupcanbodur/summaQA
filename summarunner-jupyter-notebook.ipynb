{
 "cells": [
  {
   "cell_type": "code",
   "execution_count": 1,
   "metadata": {},
   "outputs": [],
   "source": [
    "import json\n",
    "import nltk\n",
    "from datetime import datetime\n",
    "from gensim.summarization import summarize\n",
    "\n",
    "\n",
    "SENTENCE_COUNT = 2\n",
    "\n",
    "# Reads a json file and return a dictionary object\n",
    "def read_json(file_path):\n",
    "    temp_json = {}\n",
    "    with open(file_path, 'r') as f:\n",
    "        temp_json = json.load(f)\n",
    "    return temp_json\n",
    "\n",
    "# Write dictionary object to a json formatted file\n",
    "def write_to_json(data, file_path):\n",
    "    with open(file_path, \"w\") as f:\n",
    "        json.dump(data, f)\n",
    "def isParagraphValid(paragraph):\n",
    "    # Check for sentence count. If sentence_count > SENTENCE_COUNT return true.\n",
    "    return len(nltk.sent_tokenize(paragraph)) > SENTENCE_COUNT\n",
    "\n",
    "def getDateTime():\n",
    "    return datetime.now().strftime(\"%d-%m-%Y_%H:%M:%S\")"
   ]
  },
  {
   "cell_type": "code",
   "execution_count": 2,
   "metadata": {},
   "outputs": [],
   "source": [
    "squadTrainingJSON = read_json('./datasets/train-v2.0.json')\n",
    "squadTrainingJSONData = squadTrainingJSON[\"data\"]"
   ]
  },
  {
   "cell_type": "code",
   "execution_count": 3,
   "metadata": {},
   "outputs": [],
   "source": [
    "# version, data\n",
    "# data da, [{title, paragraphs}...} var\n",
    "# paragraphsta [{qas, context}...] var\n",
    "aa = squadTrainingJSONData[0][\"paragraphs\"]"
   ]
  },
  {
   "cell_type": "code",
   "execution_count": null,
   "metadata": {},
   "outputs": [],
   "source": [
    "%%time\n",
    "# tpDict : Title-Paragraph dictionary\n",
    "# qcDict : Questions - Context dictionary\n",
    "ind = 0\n",
    "total = 0\n",
    "summarized = 0\n",
    "empty_summarized = 0\n",
    "skipped = 0\n",
    "error = 0\n",
    "for tpDict in squadTrainingJSONData:\n",
    "    total += len(tpDict[\"paragraphs\"])\n",
    "    for qcDict in tpDict[\"paragraphs\"]:\n",
    "        context = qcDict[\"context\"]\n",
    "        if(isParagraphValid(context)):\n",
    "            try:\n",
    "                summary = summarize(context)\n",
    "                if summary == \"\" : \n",
    "                    empty_summarized += 1\n",
    "#                 print(\"EMPTY\")\n",
    "                else: \n",
    "                    summarized += 1\n",
    "                    qcDict[\"context\"] = summary\n",
    "#                 print(\"SUMMARY\\n\" + summary)\n",
    "            except ValueError:\n",
    "                # Do nothing\n",
    "                error += 1\n",
    "#                 print(\"Text too short error\")\n",
    "        else:\n",
    "            skipped += 1\n",
    "print(\"Successfull Summary Count: \" + str(summarized))\n",
    "print(\"Empty Summary Count: \" + str(empty_summarized))\n",
    "print(\"Not Valid(Skipped) Summary Count: \"+ str(skipped))\n",
    "print(\"Total Context Count: \" + str(total))\n",
    "print(\"Error Count: \" + str(error))\n",
    "\n",
    "write_to_json(squadTrainingJSON, \"./\"+ getDateTime() +\".json\")"
   ]
  }
 ],
 "metadata": {
  "kernelspec": {
   "display_name": "Python 3",
   "language": "python",
   "name": "python3"
  },
  "language_info": {
   "codemirror_mode": {
    "name": "ipython",
    "version": 3
   },
   "file_extension": ".py",
   "mimetype": "text/x-python",
   "name": "python",
   "nbconvert_exporter": "python",
   "pygments_lexer": "ipython3",
   "version": "3.7.3"
  }
 },
 "nbformat": 4,
 "nbformat_minor": 2
}
